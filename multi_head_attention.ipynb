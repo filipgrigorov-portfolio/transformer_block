{
 "cells": [
  {
   "cell_type": "code",
   "execution_count": 1,
   "id": "ab81be72-a8bc-4d80-a207-38a7924e3cb8",
   "metadata": {},
   "outputs": [],
   "source": [
    "import matplotlib.pyplot as plt\n",
    "import numpy as np\n",
    "\n",
    "import torch\n",
    "import torch.nn as nn\n",
    "\n",
    "from torch.autograd import Variable\n",
    "import torch.nn.functional as F\n",
    "\n",
    "torch.manual_seed(9)\n",
    "\n",
    "%matplotlib inline"
   ]
  },
  {
   "cell_type": "code",
   "execution_count": 2,
   "id": "8351f667-5368-4be4-8bfa-8da4bb391f1a",
   "metadata": {},
   "outputs": [],
   "source": [
    "class SelfAttention(nn.Module):\n",
    "    def __init__(self, batch_size, nfeats):\n",
    "        super(SelfAttention, self).__init__()\n",
    "        \n",
    "        self.nfeats = nfeats\n",
    "        # Wq, Wk, Wv (more controllable parameters)\n",
    "        self.Wq = Variable(torch.randn(batch_size, nfeats, nfeats), requires_grad=True)\n",
    "        self.Wk = Variable(torch.randn(batch_size, nfeats, nfeats), requires_grad=True)\n",
    "        self.Wv = Variable(torch.randn(batch_size, nfeats, nfeats), requires_grad=True)\n",
    "        \n",
    "    def forward(self, X):\n",
    "        Q = torch.bmm(self.Wq, X)\n",
    "        K = torch.bmm(self.Wk, X)\n",
    "        V = torch.bmm(self.Wv, X)\n",
    "        scale = 1.0 / np.sqrt(self.nfeats)\n",
    "        W = torch.bmm(Q.transpose(2, 1), K) * scale\n",
    "        return torch.bmm(F.softmax(W, dim=2), V)\n",
    "    \n",
    "class MultiHeadAttention(nn.Module):\n",
    "    def __init__(self, r, batch_size, nfeats):\n",
    "        super(MultiHeadAttention, self).__init__()\n",
    "        \n",
    "        self.multihead = [ SelfAttention(batch_size, nfeats) for _ in range(r) ]\n",
    "        self.transform = nn.Linear(r * nfeats, nfeats)\n",
    "        \n",
    "    def forward(self, X):\n",
    "        Y = torch.cat([ self.multihead[idx](X) for idx in range(len(self.multihead)) ], dim=2)\n",
    "        return self.transform(Y)"
   ]
  },
  {
   "cell_type": "code",
   "execution_count": 3,
   "id": "74033d5b-c525-453a-9ec2-e8dae6763b90",
   "metadata": {},
   "outputs": [
    {
     "name": "stdout",
     "output_type": "stream",
     "text": [
      "torch.Size([1, 2, 2])\n",
      "tensor([[[ 0.4898, -0.9724],\n",
      "         [ 0.4850, -0.8700]]], grad_fn=<AddBackward0>)\n"
     ]
    }
   ],
   "source": [
    "x1 = torch.FloatTensor([1, 2])\n",
    "x2 = torch.FloatTensor([3, 2])\n",
    "X = torch.stack([x1, x2]).unsqueeze(0)\n",
    "print(X.size())\n",
    "\n",
    "multihead_attention = MultiHeadAttention(2, 1, 2)\n",
    "print(multihead_attention(X))"
   ]
  },
  {
   "cell_type": "code",
   "execution_count": null,
   "id": "86db37fc-e6f3-42f8-ab6d-cc51fcc67425",
   "metadata": {},
   "outputs": [],
   "source": []
  }
 ],
 "metadata": {
  "kernelspec": {
   "display_name": "Python 3",
   "language": "python",
   "name": "python3"
  },
  "language_info": {
   "codemirror_mode": {
    "name": "ipython",
    "version": 3
   },
   "file_extension": ".py",
   "mimetype": "text/x-python",
   "name": "python",
   "nbconvert_exporter": "python",
   "pygments_lexer": "ipython3",
   "version": "3.9.7"
  }
 },
 "nbformat": 4,
 "nbformat_minor": 5
}
