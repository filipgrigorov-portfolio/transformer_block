{
 "cells": [
  {
   "cell_type": "code",
   "execution_count": 1,
   "id": "d95140e8-b92c-4624-9797-bb64f99fcc9e",
   "metadata": {},
   "outputs": [],
   "source": [
    "import matplotlib.pyplot as plt\n",
    "import numpy as np\n",
    "\n",
    "import torch\n",
    "import torch.nn as nn\n",
    "\n",
    "from torch.autograd import Variable\n",
    "import torch.nn.functional as F\n",
    "\n",
    "torch.manual_seed(9)\n",
    "\n",
    "%matplotlib inline"
   ]
  },
  {
   "cell_type": "code",
   "execution_count": 8,
   "id": "11e7eb7f-c674-4507-bb8a-8b5e90dbd735",
   "metadata": {},
   "outputs": [],
   "source": [
    "class SelfAttention(nn.Module):\n",
    "    def __init__(self, batch_size, nfeats):\n",
    "        super(SelfAttention, self).__init__()\n",
    "        \n",
    "        self.nfeats = nfeats\n",
    "        # Wq, Wk, Wv (more controllable parameters)\n",
    "        self.Wq = Variable(torch.randn(batch_size, nfeats, nfeats), requires_grad=True)\n",
    "        self.Wk = Variable(torch.randn(batch_size, nfeats, nfeats), requires_grad=True)\n",
    "        self.Wv = Variable(torch.randn(batch_size, nfeats, nfeats), requires_grad=True)\n",
    "        \n",
    "    def forward(self, X):\n",
    "        Q = torch.bmm(self.Wq, X)\n",
    "        K = torch.bmm(self.Wk, X)\n",
    "        V = torch.bmm(self.Wv, X)\n",
    "        scale = 1.0 / np.sqrt(self.nfeats)\n",
    "        W = torch.bmm(Q.transpose(2, 1), K) * scale\n",
    "        return torch.bmm(F.softmax(W, dim=2), V)\n",
    "    \n",
    "class MultiHeadAttention(nn.Module):\n",
    "    def __init__(self, r, batch_size, nfeats):\n",
    "        super(MultiHeadAttention, self).__init__()\n",
    "        \n",
    "        self.multihead = [ SelfAttention(batch_size, nfeats) for _ in range(r) ]\n",
    "        self.transform = nn.Linear(r * nfeats, nfeats)\n",
    "        \n",
    "    def forward(self, X):\n",
    "        Y = torch.cat([ self.multihead[idx](X) for idx in range(len(self.multihead)) ], dim=2)\n",
    "        return self.transform(Y)\n",
    "    \n",
    "class Transformer(nn.Module):\n",
    "    def __init__(self, r, batch_size, num_inputs, nfeats):\n",
    "        super(Transformer, self).__init__()\n",
    "        \n",
    "        self.self_attention = MultiHeadAttention(r, batch_size, nfeats)\n",
    "        # Similar to batch norm (improves convergence and training)\n",
    "        self.norm = nn.LayerNorm(nfeats)\n",
    "        self.mlp = nn.Linear(num_inputs, nfeats, bias=True)\n",
    "        \n",
    "    def forward(self, X):\n",
    "        batch, num_inputs, nfeats = X.size()\n",
    "        Y = self.self_attention(X)\n",
    "        Y = self.norm(Y) + Y\n",
    "        Y = self.mlp(Y)\n",
    "        return Y"
   ]
  },
  {
   "cell_type": "code",
   "execution_count": 9,
   "id": "5d0271ec-e8a7-4465-986d-02ae6f7b8e0c",
   "metadata": {},
   "outputs": [
    {
     "name": "stdout",
     "output_type": "stream",
     "text": [
      "torch.Size([1, 2, 2])\n",
      "tensor([[[ 0.2114, -0.0037],\n",
      "         [ 0.1739, -0.0134]]], grad_fn=<AddBackward0>)\n"
     ]
    }
   ],
   "source": [
    "x1 = torch.FloatTensor([1, 2])\n",
    "x2 = torch.FloatTensor([3, 2])\n",
    "X = torch.stack([x1, x2]).unsqueeze(0)\n",
    "print(X.size())\n",
    "\n",
    "multihead_attention = Transformer(2, 1, 2, 2)\n",
    "print(multihead_attention(X))"
   ]
  },
  {
   "cell_type": "code",
   "execution_count": null,
   "id": "94441c81-52f2-42ca-b334-6e1856939a99",
   "metadata": {},
   "outputs": [],
   "source": []
  }
 ],
 "metadata": {
  "kernelspec": {
   "display_name": "Python 3",
   "language": "python",
   "name": "python3"
  },
  "language_info": {
   "codemirror_mode": {
    "name": "ipython",
    "version": 3
   },
   "file_extension": ".py",
   "mimetype": "text/x-python",
   "name": "python",
   "nbconvert_exporter": "python",
   "pygments_lexer": "ipython3",
   "version": "3.9.7"
  }
 },
 "nbformat": 4,
 "nbformat_minor": 5
}
