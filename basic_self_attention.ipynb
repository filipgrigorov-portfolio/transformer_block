{
 "cells": [
  {
   "cell_type": "code",
   "execution_count": 1,
   "id": "0b6eccb9-9ce0-4bc4-b18e-409f7c7b4343",
   "metadata": {},
   "outputs": [],
   "source": [
    "import matplotlib.pyplot as plt\n",
    "import numpy as np\n",
    "\n",
    "import torch\n",
    "import torch.nn as nn\n",
    "\n",
    "from torch.autograd import Variable\n",
    "import torch.nn.functional as F\n",
    "\n",
    "torch.manual_seed(9)\n",
    "\n",
    "%matplotlib inline"
   ]
  },
  {
   "cell_type": "code",
   "execution_count": 2,
   "id": "42c98150-6ff3-4b51-a7dd-9ba2d2bec2fa",
   "metadata": {},
   "outputs": [],
   "source": [
    "class SelfAttention(nn.Module):\n",
    "    def __init__(self, batch_size, num_inputs):\n",
    "        super(SelfAttention, self).__init__()\n",
    "        self.num_inputs = num_inputs\n",
    "        # wij for all vectors\n",
    "        self.W = Variable(torch.randn(batch_size, self.num_inputs, self.num_inputs), requires_grad=True)\n",
    "        \n",
    "    def forward(self, X):\n",
    "        '''for b in range(X.size(0)):\n",
    "            for i in range(X.size(1)):\n",
    "                for j in range(X.size(1)):\n",
    "                    self.similarity[b][i][j] = X[b][i].T.dot(X[b][j])'''\n",
    "        self.W = torch.bmm(X, X.transpose(2, 1))\n",
    "        return torch.bmm(F.softmax(self.W, dim=2), X)"
   ]
  },
  {
   "cell_type": "code",
   "execution_count": 3,
   "id": "9f42f052-46fa-4576-8e0f-d1605d36b51b",
   "metadata": {},
   "outputs": [
    {
     "name": "stdout",
     "output_type": "stream",
     "text": [
      "torch.Size([1, 2, 2])\n",
      "tensor([[[2.7616, 2.0000],\n",
      "         [2.9951, 2.0000]]])\n"
     ]
    }
   ],
   "source": [
    "simple_self_attention = SelfAttention(1, 2)\n",
    "\n",
    "x1 = torch.FloatTensor([1, 2])\n",
    "x2 = torch.FloatTensor([3, 2])\n",
    "X = torch.stack([x1, x2]).unsqueeze(0)\n",
    "print(X.size())\n",
    "print(simple_self_attention(X))"
   ]
  },
  {
   "cell_type": "code",
   "execution_count": null,
   "id": "84b180ff-1a58-4602-b50f-1027c1956b29",
   "metadata": {},
   "outputs": [],
   "source": []
  }
 ],
 "metadata": {
  "kernelspec": {
   "display_name": "Python 3",
   "language": "python",
   "name": "python3"
  },
  "language_info": {
   "codemirror_mode": {
    "name": "ipython",
    "version": 3
   },
   "file_extension": ".py",
   "mimetype": "text/x-python",
   "name": "python",
   "nbconvert_exporter": "python",
   "pygments_lexer": "ipython3",
   "version": "3.9.7"
  }
 },
 "nbformat": 4,
 "nbformat_minor": 5
}
