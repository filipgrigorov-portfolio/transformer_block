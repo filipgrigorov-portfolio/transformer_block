{
 "cells": [
  {
   "cell_type": "code",
   "execution_count": 1,
   "id": "4614cf2c-3332-4d11-a3b7-afc369ce97d9",
   "metadata": {},
   "outputs": [],
   "source": [
    "import matplotlib.pyplot as plt\n",
    "import numpy as np\n",
    "\n",
    "import torch\n",
    "import torch.nn as nn\n",
    "\n",
    "from torch.autograd import Variable\n",
    "import torch.nn.functional as F\n",
    "\n",
    "torch.manual_seed(9)\n",
    "\n",
    "%matplotlib inline"
   ]
  },
  {
   "cell_type": "code",
   "execution_count": 2,
   "id": "7e0b05d6-1202-49ef-abda-39ffbff5b313",
   "metadata": {},
   "outputs": [],
   "source": [
    "class SelfAttention(nn.Module):\n",
    "    def __init__(self, batch_size, nfeats):\n",
    "        super(SelfAttention, self).__init__()\n",
    "        \n",
    "        self.nfeats = nfeats\n",
    "        # Wq, Wk, Wv (more controllable parameters)\n",
    "        self.Wq = Variable(torch.randn(batch_size, nfeats, nfeats), requires_grad=True)\n",
    "        self.Wk = Variable(torch.randn(batch_size, nfeats, nfeats), requires_grad=True)\n",
    "        self.Wv = Variable(torch.randn(batch_size, nfeats, nfeats), requires_grad=True)\n",
    "        \n",
    "    def forward(self, X):\n",
    "        Q = torch.bmm(self.Wq, X)\n",
    "        K = torch.bmm(self.Wk, X)\n",
    "        V = torch.bmm(self.Wv, X)\n",
    "        scale = 1.0 / np.sqrt(self.nfeats)\n",
    "        W = torch.bmm(Q.transpose(2, 1), K) * scale\n",
    "        return torch.bmm(F.softmax(W, dim=2), V)"
   ]
  },
  {
   "cell_type": "code",
   "execution_count": 3,
   "id": "0f92bfd0-7cba-478f-9e49-ee9bbb1833c9",
   "metadata": {},
   "outputs": [
    {
     "name": "stdout",
     "output_type": "stream",
     "text": [
      "torch.Size([1, 2, 2])\n",
      "tensor([[[-1.5447, -2.0196],\n",
      "         [-1.2763, -1.7446]]], grad_fn=<BmmBackward0>)\n"
     ]
    }
   ],
   "source": [
    "x1 = torch.FloatTensor([1, 2])\n",
    "x2 = torch.FloatTensor([3, 2])\n",
    "X = torch.stack([x1, x2]).unsqueeze(0)\n",
    "print(X.size())\n",
    "\n",
    "simple_self_attention = SelfAttention(1, 2)\n",
    "print(simple_self_attention(X))"
   ]
  },
  {
   "cell_type": "code",
   "execution_count": null,
   "id": "6e3fed2e-157b-43a0-b975-e00b315304b2",
   "metadata": {},
   "outputs": [],
   "source": []
  }
 ],
 "metadata": {
  "kernelspec": {
   "display_name": "Python 3",
   "language": "python",
   "name": "python3"
  },
  "language_info": {
   "codemirror_mode": {
    "name": "ipython",
    "version": 3
   },
   "file_extension": ".py",
   "mimetype": "text/x-python",
   "name": "python",
   "nbconvert_exporter": "python",
   "pygments_lexer": "ipython3",
   "version": "3.9.7"
  }
 },
 "nbformat": 4,
 "nbformat_minor": 5
}
